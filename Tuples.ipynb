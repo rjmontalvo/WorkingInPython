{
 "cells": [
  {
   "cell_type": "code",
   "execution_count": 3,
   "metadata": {
    "collapsed": false
   },
   "outputs": [
    {
     "name": "stdout",
     "output_type": "stream",
     "text": [
      "(4, 5, 6, 7)\n",
      "(1, 2, 3, 5)\n"
     ]
    }
   ],
   "source": [
    "##Create Tuples\n",
    "Tuple1 = 4,5,6,7\n",
    "Tuple2 = (1,2,3,5)\n",
    "\n",
    "print(Tuple1)\n",
    "print(Tuple2)"
   ]
  },
  {
   "cell_type": "code",
   "execution_count": 5,
   "metadata": {
    "collapsed": false
   },
   "outputs": [
    {
     "name": "stdout",
     "output_type": "stream",
     "text": [
      "(4, 5)\n",
      "5\n"
     ]
    }
   ],
   "source": [
    "##Index Tuples\n",
    "print(Tuple1[:2])\n",
    "print(Tuple2[3])"
   ]
  },
  {
   "cell_type": "code",
   "execution_count": 13,
   "metadata": {
    "collapsed": false
   },
   "outputs": [
    {
     "name": "stdout",
     "output_type": "stream",
     "text": [
      "(4, 5, 6, 7, 1, 2, 3, 5)\n",
      "(4, 5, 6, 7, 4, 5, 6, 7, 1, 2, 3, 5)\n",
      "(4, 5, 6, 7, 4, 5, 6, 7, 1, 2, 3, 5, 4, 5, 6, 7, 4, 5, 6, 7, 1, 2, 3, 5, 4, 5, 6, 7, 4, 5, 6, 7, 1, 2, 3, 5)\n"
     ]
    }
   ],
   "source": [
    "##Add and multiply tuples like strings\n",
    "print(Tuple1+Tuple2)\n",
    "print(Tuple1*2+Tuple2)\n",
    "print(3*(Tuple1*2+Tuple2))\n",
    "\n"
   ]
  },
  {
   "cell_type": "code",
   "execution_count": 14,
   "metadata": {
    "collapsed": false
   },
   "outputs": [
    {
     "ename": "TypeError",
     "evalue": "'tuple' object does not support item assignment",
     "output_type": "error",
     "traceback": [
      "\u001b[0;31m---------------------------------------------------------------------------\u001b[0m",
      "\u001b[0;31mTypeError\u001b[0m                                 Traceback (most recent call last)",
      "\u001b[0;32m<ipython-input-14-b174089d5567>\u001b[0m in \u001b[0;36m<module>\u001b[0;34m\u001b[0m\n\u001b[1;32m      1\u001b[0m \u001b[0mT1\u001b[0m \u001b[0;34m=\u001b[0m \u001b[0;36m1\u001b[0m\u001b[0;34m,\u001b[0m\u001b[0;36m2\u001b[0m\u001b[0;34m,\u001b[0m\u001b[0;36m15125\u001b[0m\u001b[0;34m,\u001b[0m\u001b[0;36m125123\u001b[0m\u001b[0;34m\u001b[0m\u001b[0;34m\u001b[0m\u001b[0m\n\u001b[0;32m----> 2\u001b[0;31m \u001b[0mT1\u001b[0m\u001b[0;34m[\u001b[0m\u001b[0;36m1\u001b[0m\u001b[0;34m]\u001b[0m \u001b[0;34m=\u001b[0m \u001b[0;36m35\u001b[0m\u001b[0;34m\u001b[0m\u001b[0;34m\u001b[0m\u001b[0m\n\u001b[0m\u001b[1;32m      3\u001b[0m \u001b[0mprint\u001b[0m\u001b[0;34m(\u001b[0m\u001b[0mT1\u001b[0m\u001b[0;34m[\u001b[0m\u001b[0;36m1\u001b[0m\u001b[0;34m]\u001b[0m\u001b[0;34m)\u001b[0m\u001b[0;34m\u001b[0m\u001b[0;34m\u001b[0m\u001b[0m\n",
      "\u001b[0;31mTypeError\u001b[0m: 'tuple' object does not support item assignment"
     ]
    }
   ],
   "source": [
    "##Tuples cannot be changed because they are immutable\n",
    "T1 = 1,2,15125,125123\n",
    "T1[1] = 35\n",
    "print(T1[1])"
   ]
  },
  {
   "cell_type": "code",
   "execution_count": 23,
   "metadata": {
    "collapsed": false
   },
   "outputs": [
    {
     "name": "stdout",
     "output_type": "stream",
     "text": [
      "({'hello': 1, 'world': 2}, {'goodbye': 2, 'planet': 3})\n",
      "({'hello': 2, 'world': 2, 'again': 3}, {'goodbye': 2, 'planet': 3})\n"
     ]
    }
   ],
   "source": [
    "#Changing the base value of an item (e.g d1, d2) does not change the tuple but changes the base value and this the display of that value in the tuple\n",
    "d1 = {'hello':1, 'world':2}\n",
    "d2 = {'goodbye':2, 'planet':3}\n",
    "\n",
    "t2 = d1,d2\n",
    "print(t2)\n",
    "\n",
    "d1['again'] = 3\n",
    "d1['hello'] = d2['goodbye']\n",
    "print(t2)"
   ]
  },
  {
   "cell_type": "code",
   "execution_count": 26,
   "metadata": {
    "collapsed": false
   },
   "outputs": [
    {
     "name": "stdout",
     "output_type": "stream",
     "text": [
      "({1: 2, 2: 3}, {4: 5, 6: 7})\n",
      "{1: 2, 2: 3, 9: 10}\n",
      "({1: 2, 2: 3, 9: 10}, {4: 5, 6: 7})\n"
     ]
    }
   ],
   "source": [
    "#Showing you can add to the base value, but his does not change the what of what the tuple is made of (it still consists of adict and bdict)\n",
    "adict = {1:2, 2:3}\n",
    "bdict = {4:5, 6:7}\n",
    "td = (adict, bdict)\n",
    "print(td)\n",
    "adict[9] = 10\n",
    "print(adict)\n",
    "print(td)"
   ]
  },
  {
   "cell_type": "code",
   "execution_count": 1,
   "metadata": {
    "collapsed": false
   },
   "outputs": [
    {
     "name": "stdout",
     "output_type": "stream",
     "text": [
      "<class 'list'>\n",
      "(4, 5, 11, 12)\n",
      "(4, 5, 11, 12)\n"
     ]
    }
   ],
   "source": [
    "#When sorting a tuple it will be changed to a list and must be converted back to a tuple\n",
    "ta = 5,4,12,11\n",
    "def tsort2(t):\n",
    "    sortedTup = sorted(ta)\n",
    "    tup2 = tuple(sortedTup)\n",
    "    return(tup2)\n",
    "\n",
    "print(tsort2(ta))\n",
    "\n",
    "def tsort(t):\n",
    "    l = list(t)\n",
    "    l.sort()\n",
    "    tout = tuple(l)\n",
    "    return(tout)\n",
    "\n",
    "print(tsort(ta))"
   ]
  },
  {
   "cell_type": "code",
   "execution_count": 35,
   "metadata": {
    "collapsed": false
   },
   "outputs": [
    {
     "name": "stdout",
     "output_type": "stream",
     "text": [
      "1\n",
      "2\n",
      "35\n"
     ]
    }
   ],
   "source": [
    "##Multiple Assignment with Tuples\n",
    "t4 = 1,2,35,6,3462,1\n",
    "\n",
    "Hello, I, am, assigned, to, Tuple = t4\n",
    "print(Hello)\n",
    "print(I)\n",
    "print(am)"
   ]
  },
  {
   "cell_type": "code",
   "execution_count": 41,
   "metadata": {
    "collapsed": false
   },
   "outputs": [
    {
     "name": "stdout",
     "output_type": "stream",
     "text": [
      "True\n"
     ]
    }
   ],
   "source": [
    "#Operators can be used to find out if a tuple is equal to, greater than, or less than another tuple. This will return True or False\n",
    "tt = ('raven','montalvo')\n",
    "tz = ('Raven', 'montalvo')\n",
    "\n",
    "print(tt>tz)\n",
    "    "
   ]
  },
  {
   "cell_type": "code",
   "execution_count": 0,
   "metadata": {
    "collapsed": false
   },
   "outputs": [
   ],
   "source": [
   ]
  }
 ],
 "metadata": {
  "kernelspec": {
   "display_name": "Python 3 (system-wide)",
   "language": "python",
   "metadata": {
    "cocalc": {
     "description": "Python 3 programming language",
     "priority": 100,
     "url": "https://www.python.org/"
    }
   },
   "name": "python3"
  },
  "language_info": {
   "codemirror_mode": {
    "name": "ipython",
    "version": 3
   },
   "file_extension": ".py",
   "mimetype": "text/x-python",
   "name": "python",
   "nbconvert_exporter": "python",
   "pygments_lexer": "ipython3",
   "version": "3.6.9"
  }
 },
 "nbformat": 4,
 "nbformat_minor": 0
}