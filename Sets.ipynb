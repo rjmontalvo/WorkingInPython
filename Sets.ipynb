{
 "cells": [
  {
   "cell_type": "code",
   "execution_count": 6,
   "metadata": {
    "collapsed": false
   },
   "outputs": [
    {
     "name": "stdout",
     "output_type": "stream",
     "text": [
      "<class 'set'> <class 'list'> <class 'tuple'>\n"
     ]
    }
   ],
   "source": [
    "#Create ASet, AList and ATuple, all of which contain “cat”, “dog” and “parrot”. Print the type of each.\n",
    "\n",
    "ASet = {\"cat\", \"dog\", \"parrot\"}\n",
    "AList = [\"cat\", \"dog\", \"parrot\"]\n",
    "ATuple = (\"cat\", \"dog\", \"parrot\")\n",
    "\n",
    "print(type(ASet), type(AList), type(ATuple))"
   ]
  },
  {
   "cell_type": "code",
   "execution_count": 11,
   "metadata": {
    "collapsed": false
   },
   "outputs": [
    {
     "name": "stdout",
     "output_type": "stream",
     "text": [
      "cat\n",
      "cat\n"
     ]
    }
   ],
   "source": [
    "#Attempt to obtain the first value of each collection. How does python respond?\n",
    "print(AList[0])\n",
    "print(ATuple[0])\n"
   ]
  },
  {
   "cell_type": "code",
   "execution_count": 14,
   "metadata": {
    "collapsed": false
   },
   "outputs": [
    {
     "name": "stdout",
     "output_type": "stream",
     "text": [
      "===Set===\n",
      "dog\n",
      "cat\n",
      "parrot\n",
      "===List===\n",
      "cat\n",
      "dog\n",
      "parrot\n",
      "===Tuple===\n",
      "cat\n",
      "dog\n",
      "parrot\n"
     ]
    }
   ],
   "source": [
    "#Write for loops to iterate over and print the contents of these collections. Observations?\n",
    "print(\"===Set===\")\n",
    "for x in ASet:\n",
    "    print(x)\n",
    "print(\"===List===\")\n",
    "for x in AList:\n",
    "    print(x)\n",
    "print(\"===Tuple===\")\n",
    "for x in ATuple:\n",
    "    print(x)"
   ]
  },
  {
   "cell_type": "code",
   "execution_count": 15,
   "metadata": {
    "collapsed": false
   },
   "outputs": [
    {
     "name": "stdout",
     "output_type": "stream",
     "text": [
      "False\n",
      "False\n",
      "True\n"
     ]
    }
   ],
   "source": [
    "#Create BList, BTuple and BSet. They have the same items as the A variants, but the cat appears last instead of first.\n",
    "\n",
    "BSet = {\"dog\", \"parrot\", \"cat\"}\n",
    "BList = [\"dog\", \"parrot\",\"cat\"]\n",
    "BTuple = (\"dog\", \"parrot\",\"cat\")\n",
    "\n",
    "# The Lists\n",
    "print(AList==BList)\n",
    "# The tuples\n",
    "print(ATuple == BTuple)\n",
    "#The Sets\n",
    "print(ASet == BSet)"
   ]
  },
  {
   "cell_type": "code",
   "execution_count": 20,
   "metadata": {
    "collapsed": false
   },
   "outputs": [
    {
     "name": "stdout",
     "output_type": "stream",
     "text": [
      "{'dog', 'cat', 'parrot'} ['cat', 'dog', 'parrot', 'dog'] ('cat', 'dog', 'parrot', 'dog')\n",
      "3 4 4\n"
     ]
    }
   ],
   "source": [
    "#To each of the collection definitions, add another “dog” as a fourth entry.\n",
    "CSet = {\"cat\", \"dog\", \"parrot\",\"dog\"}\n",
    "CList = [\"cat\", \"dog\", \"parrot\",\"dog\"]\n",
    "CTuple = (\"cat\", \"dog\", \"parrot\",\"dog\")\n",
    "\n",
    "print(CSet,CList,CTuple)\n",
    "print(len(CSet), len(CList), len(CTuple))"
   ]
  },
  {
   "cell_type": "code",
   "execution_count": 25,
   "metadata": {
    "collapsed": false
   },
   "outputs": [
    {
     "name": "stdout",
     "output_type": "stream",
     "text": [
      "{'dog': 2, 'cat': 1, 'parrot': 0}\n",
      "{'Felix', 'Fido'}\n"
     ]
    }
   ],
   "source": [
    "pets_dict = {\"dog\":2,\"cat\":1,\"parrot\":0}\n",
    "pets_set = {\"Fido\",\"Felix\"}\n",
    "\n",
    "print(pets_dict)\n",
    "print(pets_set)"
   ]
  },
  {
   "cell_type": "code",
   "execution_count": 27,
   "metadata": {
    "collapsed": false
   },
   "outputs": [
    {
     "name": "stdout",
     "output_type": "stream",
     "text": [
      "{'dog': 2, 'cat': 0, 'parrot': 0, 'Python': 1}\n",
      "{'Fido', 'Cool guy'}\n"
     ]
    }
   ],
   "source": [
    "#Add a python to the dictionary and the set. The pythons name is “Cool guy”.\n",
    "pets_dict[\"Python\"] = 1\n",
    "pets_set.add(\"Cool guy\")\n",
    "\n",
    "print(pets_dict)\n",
    "print(pets_set)"
   ]
  },
  {
   "cell_type": "code",
   "execution_count": 28,
   "metadata": {
    "collapsed": false
   },
   "outputs": [
    {
     "name": "stdout",
     "output_type": "stream",
     "text": [
      "{'dog': 2, 'cat': 0, 'parrot': 0, 'Python': 1}\n",
      "{'Fido', 'Cool guy'}\n"
     ]
    }
   ],
   "source": [
    "#Remove the cat, update the set and dictionary.\n",
    "pets_dict[\"cat\"] = 0\n",
    "pets_set.discard(\"Felix\")\n",
    "print(pets_dict)\n",
    "print(pets_set)"
   ]
  },
  {
   "cell_type": "code",
   "execution_count": 31,
   "metadata": {
    "collapsed": false
   },
   "outputs": [
    {
     "name": "stdout",
     "output_type": "stream",
     "text": [
      "['Cool guy', 'Fido']\n",
      "<class 'list'>\n"
     ]
    }
   ],
   "source": [
    "#Note that the set doesn’t print in alphabetical order. Use the sorted function to “solve” this problem and create sorted_pets_set. What is the type of this new object?\n",
    "sorted_pets_set = sorted(pets_set)\n",
    "print(sorted_pets_set)\n",
    "print(type(sorted_pets_set))"
   ]
  },
  {
   "cell_type": "code",
   "execution_count": 32,
   "metadata": {
    "collapsed": false
   },
   "outputs": [
    {
     "name": "stdout",
     "output_type": "stream",
     "text": [
      "[1, 2, 3, 4, 5, 6]\n"
     ]
    }
   ],
   "source": [
    "#The function set() turns a list into a set. A set is unduplicated. the function list() turns a set into a list.\n",
    "#Use these facts to write a function undup(), which converts a list with duplications into an unduplicated list. Test it on [1,1,2,3,4,4,5,1,2,6]\n",
    "\n",
    "def undup(AList):\n",
    "    return list(set(AList))\n",
    "\n",
    "x = [1,1,2,3,4,4,5,1,2,6]\n",
    "print(undup(x))\n"
   ]
  },
  {
   "cell_type": "code",
   "execution_count": 36,
   "metadata": {
    "collapsed": false
   },
   "outputs": [
    {
     "name": "stdout",
     "output_type": "stream",
     "text": [
      "{1, 2, 3, 4, 5, 6, 7, 8, 9, 10, 11, 12, 13, 14, 15, 16, 17, 18, 19, 20, 21, 22, 23, 24, 25, 26, 27, 28, 29, 30, 31, 32, 33, 34, 35, 36, 37, 38, 39, 40, 41, 42, 43, 44, 45, 46, 47, 48, 49, 50, 51, 52, 53, 54, 55, 56, 57, 58, 59, 60, 61, 62, 63, 64, 65, 66, 67, 68, 69, 70, 71, 72, 73, 74, 75, 76, 77, 78, 79, 80, 81, 82, 83, 84, 85, 86, 87, 88, 89, 90, 91, 92, 93, 94, 95, 96, 97, 98, 99}\n"
     ]
    }
   ],
   "source": [
    "#Does the set() function work on range objects?\n",
    "I100 = set(range(1,100))\n",
    "print(I100)"
   ]
  },
  {
   "cell_type": "code",
   "execution_count": 37,
   "metadata": {
    "collapsed": false
   },
   "outputs": [
    {
     "name": "stdout",
     "output_type": "stream",
     "text": [
      "{2, 4, 6, 8, 10, 12, 14, 16, 18, 20, 22, 24, 26, 28, 30, 32, 34, 36, 38, 40, 42, 44, 46, 48, 50, 52, 54, 56, 58, 60, 62, 64, 66, 68, 70, 72, 74, 76, 78, 80, 82, 84, 86, 88, 90, 92, 94, 96, 98}\n"
     ]
    }
   ],
   "source": [
    "Universe = I100\n",
    "evenSet = set()\n",
    "for i in I100:\n",
    "    if i%2 == 0:\n",
    "        evenSet.add(i)\n",
    "print(evenSet)"
   ]
  },
  {
   "cell_type": "code",
   "execution_count": 39,
   "metadata": {
    "collapsed": false
   },
   "outputs": [
    {
     "name": "stdout",
     "output_type": "stream",
     "text": [
      "True\n"
     ]
    }
   ],
   "source": [
    "Evens2 = {n for n in Universe if n % 2 == 0}\n",
    "print(Evens2 == evenSet)"
   ]
  },
  {
   "cell_type": "code",
   "execution_count": 40,
   "metadata": {
    "collapsed": false
   },
   "outputs": [
    {
     "name": "stdout",
     "output_type": "stream",
     "text": [
      "{1, 3, 5, 7, 9, 11, 13, 15, 17, 19, 21, 23, 25, 27, 29, 31, 33, 35, 37, 39, 41, 43, 45, 47, 49, 51, 53, 55, 57, 59, 61, 63, 65, 67, 69, 71, 73, 75, 77, 79, 81, 83, 85, 87, 89, 91, 93, 95, 97, 99}\n"
     ]
    }
   ],
   "source": [
    "Odds = {n for n in Universe if n % 2 != 0}\n",
    "print(Odds)"
   ]
  },
  {
   "cell_type": "code",
   "execution_count": 42,
   "metadata": {
    "collapsed": false
   },
   "outputs": [
    {
     "name": "stdout",
     "output_type": "stream",
     "text": [
      "{1, 2, 3, 4, 5, 6, 7, 8, 9, 10, 11, 12, 13, 14, 15, 16, 17, 18, 19, 20, 21, 22, 23, 24, 25, 26, 27, 28, 29, 30, 31, 32, 33, 34, 35, 36, 37, 38, 39, 40, 41, 42, 43, 44, 45, 46, 47, 48, 49, 50}\n"
     ]
    }
   ],
   "source": [
    "#Create the set HalfOne consisting of every number 50 or less.\n",
    "HalfOne = {n for n in Universe if (n<=50)}\n",
    "print(HalfOne)"
   ]
  },
  {
   "cell_type": "code",
   "execution_count": 43,
   "metadata": {
    "collapsed": false
   },
   "outputs": [
    {
     "name": "stdout",
     "output_type": "stream",
     "text": [
      "{3, 6, 9, 12, 15, 18, 21, 24, 27, 30, 33, 36, 39, 42, 45, 48, 51, 54, 57, 60, 63, 66, 69, 72, 75, 78, 81, 84, 87, 90, 93, 96, 99}\n",
      "{4, 8, 12, 16, 20, 24, 28, 32, 36, 40, 44, 48, 52, 56, 60, 64, 68, 72, 76, 80, 84, 88, 92, 96}\n",
      "{65, 35, 5, 70, 40, 10, 75, 45, 15, 80, 50, 20, 85, 55, 25, 90, 60, 30, 95}\n"
     ]
    }
   ],
   "source": [
    "#Create the sets Div3 , Div4, and Div5 containing the numbers divisible by 3, 4, and 5 respectively.\n",
    "Div3 = {n for n in Universe if n % 3 == 0}\n",
    "Div4 = {n for n in Universe if n % 4 == 0}\n",
    "Div5 = {n for n in Universe if n % 5 == 0}\n",
    "\n",
    "print(Div3)\n",
    "print(Div4)\n",
    "print(Div5)"
   ]
  },
  {
   "cell_type": "code",
   "execution_count": 49,
   "metadata": {
    "collapsed": false
   },
   "outputs": [
    {
     "name": "stdout",
     "output_type": "stream",
     "text": [
      "{75, 45, 15, 90, 60, 30}\n",
      "{75, 45, 15, 90, 60, 30}\n"
     ]
    }
   ],
   "source": [
    "#Intersection\n",
    "print(Div3 & Div5)\n",
    "print(Div3.intersection(Div5))"
   ]
  },
  {
   "cell_type": "code",
   "execution_count": 50,
   "metadata": {
    "collapsed": false
   },
   "outputs": [
    {
     "name": "stdout",
     "output_type": "stream",
     "text": [
      "{3, 5, 6, 9, 10, 12, 15, 18, 20, 21, 24, 25, 27, 30, 33, 35, 36, 39, 40, 42, 45, 48, 50, 51, 54, 55, 57, 60, 63, 65, 66, 69, 70, 72, 75, 78, 80, 81, 84, 85, 87, 90, 93, 95, 96, 99}\n",
      "{3, 5, 6, 9, 10, 12, 15, 18, 20, 21, 24, 25, 27, 30, 33, 35, 36, 39, 40, 42, 45, 48, 50, 51, 54, 55, 57, 60, 63, 65, 66, 69, 70, 72, 75, 78, 80, 81, 84, 85, 87, 90, 93, 95, 96, 99}\n"
     ]
    }
   ],
   "source": [
    "#Union\n",
    "print(Div3 | Div5)\n",
    "print(Div3.union(Div5))"
   ]
  },
  {
   "cell_type": "code",
   "execution_count": 51,
   "metadata": {
    "collapsed": false
   },
   "outputs": [
    {
     "name": "stdout",
     "output_type": "stream",
     "text": [
      "{3, 6, 9, 12, 18, 21, 24, 27, 33, 36, 39, 42, 48, 51, 54, 57, 63, 66, 69, 72, 78, 81, 84, 87, 93, 96, 99}\n",
      "{3, 6, 9, 12, 18, 21, 24, 27, 33, 36, 39, 42, 48, 51, 54, 57, 63, 66, 69, 72, 78, 81, 84, 87, 93, 96, 99}\n"
     ]
    }
   ],
   "source": [
    "#Difference\n",
    "print(Div3 - Div5)\n",
    "print(Div3.difference(Div5))"
   ]
  },
  {
   "cell_type": "code",
   "execution_count": 56,
   "metadata": {
    "collapsed": false
   },
   "outputs": [
    {
     "name": "stdout",
     "output_type": "stream",
     "text": [
      "{3, 5, 6, 9, 10, 12, 18, 20, 21, 24, 25, 27, 33, 35, 36, 39, 40, 42, 48, 50, 51, 54, 55, 57, 63, 65, 66, 69, 70, 72, 78, 80, 81, 84, 85, 87, 93, 95, 96, 99}\n",
      "{3, 5, 6, 9, 10, 12, 18, 20, 21, 24, 25, 27, 33, 35, 36, 39, 40, 42, 48, 50, 51, 54, 55, 57, 63, 65, 66, 69, 70, 72, 78, 80, 81, 84, 85, 87, 93, 95, 96, 99}\n"
     ]
    }
   ],
   "source": [
    "#Symmetric\n",
    "print(Div3 ^ Div5)\n",
    "print(Div3.symmetric_difference(Div5))"
   ]
  },
  {
   "cell_type": "code",
   "execution_count": 0,
   "metadata": {
    "collapsed": false
   },
   "outputs": [
   ],
   "source": [
   ]
  }
 ],
 "metadata": {
  "kernelspec": {
   "display_name": "Python 3 (system-wide)",
   "language": "python",
   "metadata": {
    "cocalc": {
     "description": "Python 3 programming language",
     "priority": 100,
     "url": "https://www.python.org/"
    }
   },
   "name": "python3"
  },
  "language_info": {
   "codemirror_mode": {
    "name": "ipython",
    "version": 3
   },
   "file_extension": ".py",
   "mimetype": "text/x-python",
   "name": "python",
   "nbconvert_exporter": "python",
   "pygments_lexer": "ipython3",
   "version": "3.6.9"
  }
 },
 "nbformat": 4,
 "nbformat_minor": 0
}