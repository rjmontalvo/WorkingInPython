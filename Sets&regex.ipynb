{
 "cells": [
  {
   "cell_type": "markdown",
   "metadata": {
    "collapsed": false
   },
   "source": [
    "# Assignment 7"
   ]
  },
  {
   "cell_type": "markdown",
   "metadata": {
    "collapsed": false
   },
   "source": [
    "## Problem 1\n",
    "Read the entire text of the file \"The Raven.tx\" and create a list, words_list, of the words in the file using the string method split() with the default split character. Print the number of words in the list using len()."
   ]
  },
  {
   "cell_type": "code",
   "execution_count": 7,
   "metadata": {
    "collapsed": false,
    "scrolled": true
   },
   "outputs": [
    {
     "name": "stdout",
     "output_type": "stream",
     "text": [
      "1067\n"
     ]
    }
   ],
   "source": [
    "# Place your code here.\n",
    "theRaven = open(\"The Raven.txt\")\n",
    "lines = theRaven.read()\n",
    "word_list = lines.split()\n",
    "print(len(word_list))"
   ]
  },
  {
   "cell_type": "markdown",
   "metadata": {
    "collapsed": false
   },
   "source": [
    "## Problem 2\n",
    "Use the set function to create a set of all of the words in the list and name the set \"Universe\"."
   ]
  },
  {
   "cell_type": "code",
   "execution_count": 8,
   "metadata": {
    "collapsed": false
   },
   "outputs": [
    {
     "name": "stdout",
     "output_type": "stream",
     "text": [
      "553\n",
      "{'napping,', 'suddenly', 'beguiling', 'lent', 'uncertain', 'lie', 'of', 'bust,', 'us—by', 'Soon', '“what', 'explore—', 'From', 'whispered,', 'bosom’s', 'wrought', 'So', 'me—filled', 'heart', 'lining', 'o’er', 'fluttered—', 'being', 'unto', 'we', 'smiling,', 'Clasp', 'linking', 'tinkled', 'this', 'moment', 'aptly', 'word,', 'shutter,', 'lost', 'and', 'till', 'shall', 'Only', 'opened', 'unmerciful', 'gloating', 'nodded,', 'rapping', 'or', 'burned', 'spoken,', 'blessed', 'friends', 'shore!', 'will', 'store', 'an', 'fiery', 'divining,', 'gently', 'sat,', 'visitor', 'beating', 'upstarting—', 'Whether', 'ghost', 'tossed', 'Is', 'outpour.', 'your', 'door;', 'out', 'now', 'that', 'bore—', 'faintly', 'stopped', 'placid', 'ember', 'I', 'front', 'curtain', 'whose', 'before;', 'living', 'explore;—', 'Ghastly', 'mortal', 'denser,', 'flitting,', 'craven,', 'days', 'velvet-violet', 'still,', 'plume', 'while', 'whom', 'but', 'truly,', 'lonely', 'hath', 'you', 'help', 'uttered—not', 'Lenore—', 'he', 'fancy,', 'was', 'Presently', 'tufted', 'maiden', 'not', 'engaged', 'seeming', 'have', 'Horror', 'muttered', 'But,', 'leave', 'purple', 'Some', 'laden', 'door—', 'shore—', 'Nothing', 'said', 'door!', 'now,', 'door.', 'crest', 'morrow', '“tapping', 'This', 'Let', 'perched', 'forgotten', 'tempest', 'Followed', 'only', 'fantastic', 'thee—by', 'the', 'I,', 'no', 'grim', 'wide', 'whispered', 'Doubting,', 'ease', 'enchanted—', 'see,', 'o’er,', 'Nameless', '“Other', 'kind', 'sent,', 'token,', 'Nightly', 'On', 'shadow', 'his', 'volume', 'perfumed', 'December;', 'sad', 'peering,', 'one', 'yore—', 'Then,', 'long', 'Thrilled', 'quaff', 'stood', 'rapping,', 'rare', 'What', 'stronger;', 'By', 'Tempter', 'expressing', 'its', 'wore,', 'implore—', 'flirt', 'yet', 'is,', 'floating', 'when,', 'again', 'truly', 'heard', '“surely', 'dreams', '“Be', 'a', 'unhappy', 'muttered,', 'And', 'Bird', 'with', 'Perched', 'these', 'sign', 'me,', 'songs', 'fact', 'wandering', 'for', 'core;', 'he;', 'countenance', 'balm', 'nearly', 'ominous', 'Then', 'somewhat', 'Raven', 'implore!”', 'guessing,', 'Hope', 'more.”', 'door!”', 'darkness', 'bird', 'back', 'With', 'nothing', 'black', 'sitting,', 'thinking', 'evermore.', 'Plutonian', 'radiant', 'ungainly,', '“thing', 'saintly', '“thy', 'loneliness', 'It', 'weak', '“Nevermore.”', 'For', 'thou,”', 'demon’s', 'grave', 'meaning—little', 'reply', 'spoken!', 'Caught', 'floor', 'distant', 'beak', 'shorn', 'dreaming,', 'shrieked,', 'more', 'Desolate', 'flown', 'before—', 'off', 'thee', 'Darkness', 'nepenthe', 'word', 'utters', 'echo', 'To', 'me—tell', 'surcease', 'discourse', 'unbroken,', 'bird,', 'cried,', 'floor;', 'chamber', 'burning,', 'sinking,', 'entreating', 'is', 'all', 'shore!”', 'betook', 'sorrow—sorrow', 'Deep', 'Lenore;', 'ghastly,', 'bust', 'what', 'seat', 'pondered,', 'on', 'Startled', 'cannot', 'God', 'sorrow', 'evil!—prophet', 'flung', 'Night’s', 'Swung', 'Open', 'if,', 'you”—here', 'just', 'from', 'token', '“Surely,”', 'so', 'broken', 'lifted—nevermore!', 'Pallas', '“or', 'soul', 'Much', 'silken,', 'forget', 'gloated', 'morrow;—vainly', 'then,', 'had', 'tapping,', 'Ever', 'unbroken!—quit', 'least', 'sculptured', 'censer', 'ungainly', 'eyes', 'But', 'before.', 'Seraphim', 'As', 'Gilead?—tell', 'bends', 'came', 'gave', 'haunted—tell', 'many', 'implore;', 'Shall', 'decorum', 'wished', 'Aidenn,', 'Leave', 'me', 'murmured', 'at', 'shaven,', 'sure', 'streaming', 'unseen', 'Lenore.”', '“Lenore!”—', 'dreary,', 'in', 'him', 'lord', 'then', 'still', 'ancient', 'foot-falls', 'In', 'spoken', 'stock', 'land', 'sainted', 'seeing', 'master', 'stepped', 'be', 'lies', 'window', '“Wretch,”', 'throws', 'beast', 'devil!', 'thereat', 'Eagerly', 'burden', 'thy', 'yore;', 'remember', 'stately', 'little', 'floor.', 'lattice;', 'adore—', 'Once', 'Fancy', 'parting,', 'Heaven', 'borrow', 'wheeled', 'cushion’s', 'silence', 'syllable', 'nevermore!', 'Not', 'methought,', 'scarce', 'curious', 'such', 'dirges', 'Over', 'wind', 'oh', 'lamp-light', 'flutter,', 'faster', 'grim,', 'some', 'Straight', 'lordly', 'upon', 'form', '“Sir,”', 'by', 'louder', 'something', '“Get', 'terrors', 'Ah,', 'dream', 'obeisance', 'lore—', 'within', 'sought', 'mystery', '“Prophet!”', 'fowl', 'fiend!”', 'Raven,', 'bleak', 'quaint', 'agreeing', 'forgiveness', 'answer', 'pallid', 'followed', 'grew', 'gaunt,', 'Respite—respite', 'distinctly', 'farther', 'Disaster', 'Lenore!”', '“art', 'weary,', 'sitting', 'heart,', 'separate', 'ashore,', 'spoke', 'repeating', 'yore', 'Quaff,', 'plainly,', 'undaunted,', 'relevancy', 'hesitating', '‘Never—nevermore’.”', 'whether', 'dying', 'home', 'said,', 'While', 'head', 'each', 'Hopes', 'as', 'clasp', 'my', 'sad,', 'fancy', 'devil!—', 'bore;', 'both', '“’Tis', 'there—is', 'Take', 'scarcely', 'it', 'That', 'desert', 'door,', 'into', 'here', 'air', 'midnight', 'never', 'entrance', 'name', 'felt', 'dreaming', 'more!”', 'press,', 'longer,', 'tapping', 'rustling', 'memories', 'ebony', 'made', 'Quoth', 'feather', 'our', 'ah,', 'Of', 'Till', 'take', 'visitor,”', 'wondering,', 'fearing,', 'She', 'above', 'mien', 'stillness', 'stern', 'Meant', 'dared', 'did', 'Madam,', '“Though', 'minute', 'angels', '“Lenore?”', 'hear', 'reclining', 'Back', 'if', 'croaking', 'Perched,', 'Merely', 'before.”', 'turning,', 'sat', 'ever', 'Tell', 'more.', 'than', 'cushioned', 'myself', '“Doubtless,”', 'sent', 'stayed', 'to', 'late', 'melancholy', 'bore', 'Though', 'velvet', 'lady,', 'fast', 'books', 'door;—', 'human', 'there', 'marvelled', '’Tis'}\n"
     ]
    }
   ],
   "source": [
    "# Place your code here.\n",
    "universe = set(word_list)\n",
    "print(len(universe))\n",
    "print(universe)\n",
    "\n"
   ]
  },
  {
   "cell_type": "markdown",
   "metadata": {
    "collapsed": false
   },
   "source": [
    "## Problem 3\n",
    "Using set comprehension produce a set called capwords consisting of all the words in the Universe which begin with capital letters. Use re.search() and an appropriate regex. Don't forget to import re.  \n",
    "\n",
    "Print the set and a count of the items in the set.\n",
    "\n"
   ]
  },
  {
   "cell_type": "code",
   "execution_count": 30,
   "metadata": {
    "collapsed": false
   },
   "outputs": [
    {
     "name": "stdout",
     "output_type": "stream",
     "text": [
      "{'Straight', 'Deep', 'I,', 'Lenore;', 'Ah,', 'Soon', 'Doubting,', 'Startled', 'God', 'Night’s', 'Swung', 'Raven,', 'From', 'Open', 'So', 'Nameless', 'Nightly', 'On', 'Respite—respite', 'Disaster', 'December;', 'Pallas', 'Clasp', 'Lenore!”', 'Much', 'Then,', 'Ever', 'Thrilled', 'Quaff,', 'Only', 'What', 'But', 'By', 'Tempter', 'Seraphim', 'As', 'Gilead?—tell', 'While', 'Hopes', 'Take', 'Shall', 'That', 'Whether', 'And', 'Bird', 'Is', 'Aidenn,', 'Leave', 'Perched', 'Then', 'I', 'Quoth', 'Raven', 'Lenore.”', 'Of', 'Till', 'Hope', 'Ghastly', 'With', 'She', 'In', 'Plutonian', 'Meant', 'It', 'Madam,', 'For', 'Lenore—', 'Eagerly', 'Back', 'Caught', 'Presently', 'Perched,', 'Merely', 'Once', 'Fancy', 'Tell', 'Horror', 'Heaven', 'Desolate', 'Darkness', 'But,', 'To', 'Not', 'Some', 'Though', 'Nothing', 'Over', 'This', 'Let', 'Followed'}\n",
      "90\n"
     ]
    }
   ],
   "source": [
    "# Place your code here.\n",
    "import re\n",
    "\n",
    "capwords = {word for word in universe if re.search('^[A-Z]', word)}\n",
    "print(capwords)\n",
    "print(len(capwords))\n"
   ]
  },
  {
   "cell_type": "markdown",
   "metadata": {
    "collapsed": false
   },
   "source": [
    "## Problem 4\n",
    "Using set comprehension, create sets ewords and awords. An eword contains a lower case \"e\" or an uppercase \"E\". The set awords has an obvious analogous definition. Print these sets and tbeir counts. Note that the membership conditions can the \"in\" operator. A regular expression is not necessary."
   ]
  },
  {
   "cell_type": "code",
   "execution_count": 40,
   "metadata": {
    "collapsed": false
   },
   "outputs": [
    {
     "name": "stdout",
     "output_type": "stream",
     "text": [
      "308\n",
      "{'thee—by', 'some', 'suddenly', 'beguiling', 'entreating', 'lent', 'uncertain', 'shore!”', 'betook', 'lie', 'the', 'louder', 'Deep', 'Lenore;', 'something', '“Get', 'wide', 'terrors', 'whispered', 'seat', 'pondered,', 'Startled', 'dream', 'explore—', 'ease', 'enchanted—', 'obeisance', 'lore—', 'mystery', '“Prophet!”', 'evil!—prophet', 'fiend!”', 'Raven,', 'see,', 'bleak', 'o’er,', 'Open', 'whispered,', 'Nameless', '“Other', 'sent,', 'you”—here', 'agreeing', 'token,', 'forgiveness', 'me—filled', 'heart', 'answer', 'token', '“Surely,”', 'o’er', 'followed', 'grew', 'Respite—respite', 'volume', 'broken', 'fluttered—', 'farther', 'being', 'lifted—nevermore!', 'Disaster', 'perfumed', 'December;', 'we', 'Lenore!”', 'tinkled', 'moment', 'silken,', 'weary,', 'shutter,', 'forget', 'peering,', 'gloated', 'one', 'heart,', 'separate', 'ashore,', 'yore—', 'then,', 'Then,', 'spoke', 'repeating', 'Ever', 'unbroken!—quit', 'Thrilled', 'yore', 'least', 'unmerciful', 'opened', 'sculptured', 'censer', 'nodded,', 'undaunted,', 'relevancy', 'eyes', 'hesitating', '‘Never—nevermore’.”', 'rare', 'whether', 'stronger;', 'home', 'before.', 'Tempter', 'burned', 'expressing', 'spoken,', 'Seraphim', 'blessed', 'wore,', 'implore—', 'Gilead?—tell', 'bends', 'minute', 'friends', 'While', 'yet', 'head', 'each', 'shore!', 'Hopes', 'came', 'store', 'when,', 'fiery', 'gave', 'cried,', 'haunted—tell', 'devil!—', 'gently', 'heard', '“surely', 'bore;', 'Take', 'there—is', 'implore;', 'beating', 'dreams', 'Whether', '“Be', 'scarcely', 'desert', 'muttered,', 'here', 'tossed', 'decorum', 'wished', 'never', 'entrance', 'Aidenn,', 'Leave', 'name', 'Perched', 'felt', 'dreaming', 'me', 'more!”', 'these', 'press,', 'murmured', 'longer,', 'me,', 'wandering', 'core;', 'bore—', 'he;', 'stopped', 'countenance', 'ember', 'memories', 'nearly', 'shaven,', 'Then', 'somewhat', 'ebony', 'made', 'sure', 'streaming', 'feather', 'Raven', 'unseen', 'implore!”', 'guessing,', 'whose', 'Lenore.”', '“Lenore!”—', 'before;', 'Hope', 'more.”', 'dreary,', 'take', 'explore;—', 'darkness', 'wondering,', 'fearing,', 'denser,', 'then', 'ancient', 'She', 'craven,', 'angels', 'velvet-violet', 'spoken', 'above', 'plume', 'mien', 'while', 'sainted', 'stillness', 'evermore.', 'seeing', 'master', 'stern', 'Meant', 'loneliness', 'stepped', 'be', 'dared', 'weak', '“Nevermore.”', 'lies', 'lonely', 'demon’s', '“Wretch,”', 'help', 'grave', 'uttered—not', 'Lenore—', 'he', 'meaning—little', 'reply', 'beast', 'devil!', 'thereat', 'spoken!', 'Eagerly', 'burden', '“Lenore?”', 'hear', 'reclining', 'yore;', 'Presently', 'remember', 'stately', 'little', 'Perched,', 'tufted', 'lattice;', 'adore—', 'Merely', 'before.”', 'beak', 'maiden', 'engaged', 'ever', 'seeming', 'have', 'dreaming,', 'Once', 'Tell', 'shrieked,', 'Heaven', 'more', 'more.', 'Desolate', 'cushioned', 'before—', 'myself', 'muttered', 'thee', 'wheeled', 'silence', 'syllable', 'Darkness', 'nepenthe', '“Doubtless,”', 'utters', 'sent', 'echo', 'leave', 'nevermore!', 'stayed', 'me—tell', 'purple', 'late', 'Some', 'laden', 'surcease', 'melancholy', 'shore—', 'methought,', 'bore', 'velvet', 'discourse', 'scarce', 'crest', 'dirges', 'Over', 'Let', 'perched', 'unbroken,', 'flutter,', 'faster', 'forgotten', 'tempest', 'there', 'Followed', 'marvelled', 'chamber'}\n",
      "181\n",
      "{'fantastic', 'napping,', 'entreating', 'Straight', 'all', 'uncertain', 'ghastly,', 'Ah,', '“what', 'what', 'seat', 'Startled', 'dream', 'ease', 'enchanted—', 'cannot', 'obeisance', 'Raven,', 'bleak', 'Nameless', 'quaint', 'agreeing', 'heart', 'answer', 'pallid', 'shadow', 'gaunt,', 'farther', 'Disaster', 'sad', 'Pallas', 'Clasp', '“art', 'aptly', 'weary,', 'gloated', 'morrow;—vainly', 'heart,', 'separate', 'ashore,', 'had', 'tapping,', 'repeating', 'and', 'shall', 'least', 'quaff', 'Quaff,', 'plainly,', 'gloating', 'undaunted,', 'ungainly', 'relevancy', 'rapping,', 'hesitating', 'rare', 'What', 'rapping', 'Seraphim', 'As', 'Gilead?—tell', 'said,', 'head', 'each', 'floating', 'as', 'clasp', 'came', 'gave', 'an', 'again', 'sad,', 'fancy', 'haunted—tell', 'heard', 'sat,', 'Take', 'many', 'Shall', 'beating', 'upstarting—', 'dreams', 'a', 'scarcely', 'unhappy', 'That', 'And', 'air', 'entrance', 'Aidenn,', 'Leave', 'name', 'dreaming', 'tapping', 'fact', 'wandering', 'that', 'faintly', 'placid', 'countenance', 'balm', 'at', 'nearly', 'shaven,', 'somewhat', 'made', 'streaming', 'feather', 'curtain', 'Raven', 'ah,', 'dreary,', 'take', 'darkness', 'Ghastly', 'mortal', 'back', 'fearing,', 'ancient', 'foot-falls', 'craven,', 'black', 'days', 'above', 'land', 'sainted', 'Plutonian', 'radiant', 'master', 'ungainly,', 'Meant', 'saintly', 'dared', 'weak', 'Madam,', 'hath', 'grave', 'meaning—little', 'angels', 'beast', 'fancy,', 'thereat', 'hear', 'was', 'Eagerly', 'Back', 'Caught', 'stately', 'croaking', 'distant', 'lattice;', 'adore—', 'sat', 'beak', 'maiden', 'engaged', 'have', 'dreaming,', 'Fancy', 'parting,', 'Heaven', 'Desolate', 'than', 'syllable', 'Darkness', 'leave', 'stayed', 'late', 'laden', 'surcease', 'melancholy', 'said', 'scarce', 'lady,', 'fast', '“tapping', 'human', 'lamp-light', 'faster', 'marvelled', 'chamber'}\n"
     ]
    }
   ],
   "source": [
    "# Place your code here.\n",
    "ewords = {word for word in universe if re.search('[eE]', word)}\n",
    "awords = {word for word in universe if re.search('[aA]', word)}\n",
    "\n",
    "print(len(ewords))\n",
    "print(ewords)\n",
    "\n",
    "print(len(awords))\n",
    "print(awords)\n",
    "\n"
   ]
  },
  {
   "cell_type": "markdown",
   "metadata": {
    "collapsed": false
   },
   "source": [
    "## Problem 5\n",
    "Verify that intersection is an assoicative operation with these particular sets. The associative law states that for all sets $A$, $B$ and $C$.  \n",
    "\n",
    "$$A \\cap (B \\cap C) = (A \\cap B) \\cap C$$\n",
    "\n",
    "You have three subsets of the Universe to make your example. Use them in any order. Note that only a single line of code is necessary."
   ]
  },
  {
   "cell_type": "code",
   "execution_count": 41,
   "metadata": {
    "collapsed": false
   },
   "outputs": [
    {
     "name": "stdout",
     "output_type": "stream",
     "text": [
      "True\n"
     ]
    }
   ],
   "source": [
    "# Place your code here.\n",
    "print((capwords & (ewords & awords))==((capwords & ewords) & awords))"
   ]
  }
 ],
 "metadata": {
  "kernelspec": {
   "display_name": "Python 3 (system-wide)",
   "language": "python",
   "metadata": {
    "cocalc": {
     "description": "Python 3 programming language",
     "priority": 100,
     "url": "https://www.python.org/"
    }
   },
   "name": "python3"
  },
  "language_info": {
   "codemirror_mode": {
    "name": "ipython",
    "version": 3
   },
   "file_extension": ".py",
   "mimetype": "text/x-python",
   "name": "python",
   "nbconvert_exporter": "python",
   "pygments_lexer": "ipython3",
   "version": "3.6.9"
  }
 },
 "nbformat": 4,
 "nbformat_minor": 0
}
