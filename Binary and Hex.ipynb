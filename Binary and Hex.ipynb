{
 "cells": [
  {
   "cell_type": "code",
   "execution_count": 1,
   "metadata": {
    "collapsed": false
   },
   "outputs": [
    {
     "data": {
      "text/plain": [
       "13"
      ]
     },
     "execution_count": 1,
     "metadata": {
     },
     "output_type": "execute_result"
    }
   ],
   "source": [
    "#Change the base of int\n",
    "int('1101', base =2)"
   ]
  },
  {
   "cell_type": "code",
   "execution_count": 32,
   "metadata": {
    "cocalc": {
     "outputs": {
      "0": {
       "name": "input",
       "opts": {
        "password": false,
        "prompt": "Enter a binary value: "
       },
       "output_type": "stream",
       "value": "1111111"
      }
     }
    },
    "collapsed": false
   },
   "outputs": [
    {
     "name": "stdout",
     "output_type": "stream",
     "text": "Enter a binary value:  1111111"
    },
    {
     "name": "stdout",
     "output_type": "stream",
     "text": [
      "127\n"
     ]
    }
   ],
   "source": [
    "#Write code to convert a binary string to decimal\n",
    "istring = input(\"Enter a binary value: \")\n",
    "length = len(istring)\n",
    "exponenet = length-1\n",
    "index = 0\n",
    "result = 0\n",
    "\n",
    "for index in range(length):\n",
    "    exponent = length - 1 - index\n",
    "    result = result + int(istring[index])*2**exponent\n",
    "\n",
    "print(result)"
   ]
  },
  {
   "cell_type": "code",
   "execution_count": 34,
   "metadata": {
    "cocalc": {
     "outputs": {
      "0": {
       "name": "input",
       "opts": {
        "password": false,
        "prompt": "Enter a hexidecimal value: "
       },
       "output_type": "stream",
       "value": "3FA"
      }
     }
    },
    "collapsed": false
   },
   "outputs": [
    {
     "name": "stdout",
     "output_type": "stream",
     "text": "Enter a hexidecimal value:  3FA"
    },
    {
     "name": "stdout",
     "output_type": "stream",
     "text": [
      "1018\n"
     ]
    }
   ],
   "source": [
    "# Write code to convert a hex string to decimal\n",
    "istring = input(\"Enter a hexidecimal value: \")\n",
    "length = len(istring)\n",
    "exponenet = length-1\n",
    "index = 0\n",
    "result = 0\n",
    "hdict = {'0':0, '1':1, '2':2, '3':3, '4':4, '5':5, '6':6, '7':7, '8':8, '9':9, 'A':10, 'B':11, 'C':12, 'D':13, 'E':14, 'F':15}\n",
    "\n",
    "for index in range(length):\n",
    "    exponent = length - 1 - index\n",
    "    result = result + int(hdict[istring[index]])*16**exponent\n",
    "\n",
    "print(result)"
   ]
  },
  {
   "cell_type": "code",
   "execution_count": 36,
   "metadata": {
    "collapsed": false
   },
   "outputs": [
    {
     "data": {
      "text/plain": [
       "3"
      ]
     },
     "execution_count": 36,
     "metadata": {
     },
     "output_type": "execute_result"
    }
   ],
   "source": [
    "#In order to write a program to convert from decimal to binary, the first step is to determine the highest power of 2 we need. \n",
    "#The idea is to find the first power that’s too large and then reduce it by 1. Write a python program to determine this power.\n",
    "def findthepower(x):\n",
    "    exponent = 0\n",
    "    while ((2**exponent)<=x):\n",
    "        exponent +=1\n",
    "    return exponent-1\n",
    "\n",
    "findthepower(8)"
   ]
  },
  {
   "cell_type": "code",
   "execution_count": 40,
   "metadata": {
    "cocalc": {
     "outputs": {
      "0": {
       "name": "input",
       "opts": {
        "password": false,
        "prompt": "Enter an integer value: "
       },
       "output_type": "stream",
       "value": "57"
      }
     }
    },
    "collapsed": false
   },
   "outputs": [
    {
     "name": "stdout",
     "output_type": "stream",
     "text": "Enter an integer value:  57"
    },
    {
     "name": "stdout",
     "output_type": "stream",
     "text": [
      "111001\n"
     ]
    }
   ],
   "source": [
    "#Write code to convert decimal to binary\n",
    "\n",
    "dec = int(input(\"Enter an integer value: \"))\n",
    "\n",
    "binary = ''\n",
    "power = findthepower(dec)\n",
    "left_to_do = dec\n",
    "while left_to_do > 0:\n",
    "    contrib = left_to_do//2**power\n",
    "    left_to_do = left_to_do - contrib*2**power\n",
    "    binary = binary + str(contrib)\n",
    "    power = power - 1\n",
    "while power >= 0:\n",
    "    power = power - 1\n",
    "    binary = binary + '0'\n",
    "print(binary)"
   ]
  },
  {
   "cell_type": "code",
   "execution_count": 0,
   "metadata": {
    "collapsed": false
   },
   "outputs": [
   ],
   "source": [
   ]
  }
 ],
 "metadata": {
  "kernelspec": {
   "display_name": "Python 3 (system-wide)",
   "language": "python",
   "metadata": {
    "cocalc": {
     "description": "Python 3 programming language",
     "priority": 100,
     "url": "https://www.python.org/"
    }
   },
   "name": "python3"
  },
  "language_info": {
   "codemirror_mode": {
    "name": "ipython",
    "version": 3
   },
   "file_extension": ".py",
   "mimetype": "text/x-python",
   "name": "python",
   "nbconvert_exporter": "python",
   "pygments_lexer": "ipython3",
   "version": "3.6.9"
  }
 },
 "nbformat": 4,
 "nbformat_minor": 0
}