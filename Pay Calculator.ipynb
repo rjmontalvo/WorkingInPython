{
 "cells": [
  {
   "cell_type": "markdown",
   "metadata": {
    "collapsed": false
   },
   "source": [
    "# Weekly Pay Calculator"
   ]
  },
  {
   "cell_type": "code",
   "execution_count": 1,
   "metadata": {
    "cocalc": {
     "outputs": {
      "0": {
       "name": "input",
       "opts": {
        "password": false,
        "prompt": "Number of hours worked this week: "
       },
       "output_type": "stream",
       "value": "45"
      },
      "1": {
       "name": "input",
       "opts": {
        "password": false,
        "prompt": "Enter pay rate: "
       },
       "output_type": "stream",
       "value": "10"
      }
     }
    },
    "collapsed": false
   },
   "outputs": [
    {
     "name": "stdout",
     "output_type": "stream",
     "text": "Number of hours worked this week:  45"
    },
    {
     "name": "stdout",
     "output_type": "stream",
     "text": "Enter pay rate:  10"
    },
    {
     "name": "stdout",
     "output_type": "stream",
     "text": [
      "Your pay this week is: 475.0\n"
     ]
    }
   ],
   "source": [
    "##Ask user for number of hrs worked this week\n",
    "hours = input(\"Number of hours worked this week: \")\n",
    "\n",
    "#Convert input to float\n",
    "hours = float(hours)\n",
    "\n",
    "#Ask user for their pay rate\n",
    "rate = input(\"Enter pay rate: \")\n",
    "\n",
    "#Conver pay rate to float\n",
    "rate = float(rate)\n",
    "\n",
    "#If the user worked over 40 hours, calculate overtime and add to pay\n",
    "#Else calculate pay\n",
    "if (hours > 40):\n",
    "    overHours = hours - 40\n",
    "    overRate = rate * 1.5\n",
    "    pay = (40 * rate) + (overHours*overRate)\n",
    "else:\n",
    "    pay = hours * rate\n",
    "    \n",
    "#Display user's pay for the week\n",
    "print(\"Your pay this week is:\", pay)"
   ]
  }
 ],
 "metadata": {
  "kernelspec": {
   "display_name": "Python 3 (system-wide)",
   "language": "python",
   "metadata": {
    "cocalc": {
     "description": "Python 3 programming language",
     "priority": 100,
     "url": "https://www.python.org/"
    }
   },
   "name": "python3"
  },
  "language_info": {
   "codemirror_mode": {
    "name": "ipython",
    "version": 3
   },
   "file_extension": ".py",
   "mimetype": "text/x-python",
   "name": "python",
   "nbconvert_exporter": "python",
   "pygments_lexer": "ipython3",
   "version": "3.6.9"
  }
 },
 "nbformat": 4,
 "nbformat_minor": 0
}